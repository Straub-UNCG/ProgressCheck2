{
 "cells": [
  {
   "cell_type": "markdown",
   "metadata": {},
   "source": [
    "# Calculate Or Die"
   ]
  },
  {
   "cell_type": "markdown",
   "metadata": {},
   "source": [
    "#### Day 1:\n",
    "\n",
    "<img src='day_1_diagram.jpg' width='400' />\n",
    "\n",
    "\n",
    "\n",
    "<b>Identification of forces acting on the space station:</b>\n",
    "\n",
    "\n",
    "Gravatatioal pull of Jupiter: $F_g = G \\frac{Mm}{r^2} \\: -\\hat r $\n",
    "\n",
    "\n",
    "Electrostatic charge of the ion cloud: $F_E = k\\frac{Qq}{r^2} \\: -\\hat r $\n",
    "\n",
    "\n",
    "Total forces: $F_{Net} = F_g - F_E$\n",
    "\n",
    "\n",
    "Kinetic energy of the space station: $T = \\frac{1}{2} m v^2$\n",
    "\n",
    "\n",
    "Volume of the ion cloud: $ V = \\frac{4}{3} \\pi \\left[ r_{cloud}^3 - r_{Jupiter}^3 \\right] $\n"
   ]
  },
  {
   "cell_type": "code",
   "execution_count": null,
   "metadata": {},
   "outputs": [],
   "source": []
  }
 ],
 "metadata": {
  "language_info": {
   "name": "python"
  }
 },
 "nbformat": 4,
 "nbformat_minor": 2
}
