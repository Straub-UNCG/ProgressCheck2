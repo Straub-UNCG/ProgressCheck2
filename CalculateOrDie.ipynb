{
 "cells": [
  {
   "cell_type": "markdown",
   "metadata": {},
   "source": [
    "# Calculate Or Die"
   ]
  },
  {
   "cell_type": "markdown",
   "metadata": {},
   "source": [
    "#### Day 1:\n",
    "\n",
    "<img src='day_1_diagram.jpg' width='400' />\n",
    "\n",
    "\n",
    "\n",
    "<b>Identification of forces acting on the space station:</b>\n",
    "\n",
    "\n",
    "Gravatatioal pull of Jupiter: $F_g = G \\frac{Mm}{r^2} \\: -\\hat r $\n",
    "\n",
    "\n",
    "Electrostatic charge of the ion cloud: $F_E = k\\frac{Qq}{r^2} \\: -\\hat r $\n",
    "\n",
    "\n",
    "Total forces: $F_{Net} = F_g - F_E$\n",
    "\n",
    "\n",
    "Kinetic energy of the space station: $T = \\frac{1}{2} m v^2$\n",
    "\n",
    "\n",
    "Volume of the ion cloud: $ V = \\frac{4}{3} \\pi \\left[ r_{cloud}^3 - r_{Jupiter}^3 \\right] $\n"
   ]
  },
  {
   "cell_type": "code",
   "execution_count": 6,
   "metadata": {},
   "outputs": [
    {
     "name": "stdout",
     "output_type": "stream",
     "text": [
      "6.263325081216001e+24\n"
     ]
    }
   ],
   "source": [
    "\n",
    "import math\n",
    "\n",
    "\n",
    "## Universal Constants\n",
    "BigG =                  6.67408E-11 # N * m^2/kg^2\n",
    "LittleG =               9.806       # N/kg\n",
    "k =                     8.99E9      # N * m^2/C^2\n",
    "\n",
    "## Jupiter\n",
    "J_mass =                1.889E27    # kg\n",
    "J_radius =              7.65E7      # m\n",
    "\n",
    "## Space Station\n",
    "S_distance =            1.483636E9  # m\n",
    "S_direction_i =         0.36        # degress inward\n",
    "S_speed_i   =           3000.61     # m/s\n",
    "S_angular_speed_i =     3.39723E-4  # rad/s\n",
    "S_radius =              85          # m\n",
    "S_mass =                4.77E7      # kg\n",
    "S_rotational_interia =  1.37853E11  # kg * m^2\n",
    "S_static_charge =       -1.335      # C\n",
    "\n",
    "## Rocket\n",
    "R_mass =                1.98E6      # kg\n",
    "R_specific_heat =       900         # J/kg * K\n",
    "R_temp_i =              293         # K\n",
    "R_temp_max =            566         # K\n",
    "R_energy_fration =      0.95\n",
    "\n",
    "## Ion Cloud\n",
    "C_charge_density =      3.002E-14   # C/m^3\n",
    "\n",
    "## Calculated Constants\n",
    "\n",
    "# The Aaron Equation\n",
    "V_t_Aaron = 0    \n",
    "\n",
    "# The Elija Equation\n",
    "V_t_Elija = 0\n",
    "\n",
    "V_t = 0\n",
    "a_max = 2.5 * LittleG\n",
    "l = S_distance *  (S_mass + R_mass) * V_t\n",
    "alpha = BigG * J_mass * (S_mass + R_mass)\n",
    "beta = k * ((4* math.pi)/3) * C_charge_density * S_static_charge\n",
    "\n",
    "\n",
    "print(alpha)"
   ]
  },
  {
   "cell_type": "markdown",
   "metadata": {},
   "source": []
  }
 ],
 "metadata": {
  "kernelspec": {
   "display_name": "Python 3",
   "language": "python",
   "name": "python3"
  },
  "language_info": {
   "codemirror_mode": {
    "name": "ipython",
    "version": 3
   },
   "file_extension": ".py",
   "mimetype": "text/x-python",
   "name": "python",
   "nbconvert_exporter": "python",
   "pygments_lexer": "ipython3",
   "version": "3.11.9"
  }
 },
 "nbformat": 4,
 "nbformat_minor": 2
}
